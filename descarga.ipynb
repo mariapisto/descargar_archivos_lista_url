{
 "cells": [
  {
   "cell_type": "code",
   "execution_count": 2,
   "metadata": {},
   "outputs": [],
   "source": [
    "import pandas as pd\n",
    "\n",
    "import os\n",
    "import time\n",
    "\n",
    "import warnings\n",
    "warnings.filterwarnings('ignore')"
   ]
  },
  {
   "cell_type": "code",
   "execution_count": 3,
   "metadata": {},
   "outputs": [],
   "source": [
    "from selenium.webdriver.common.keys import Keys\n",
    "from selenium.webdriver import ActionChains\n",
    "from selenium.webdriver.support import expected_conditions\n",
    "from selenium.webdriver.common.by import By\n",
    "from selenium.webdriver.support.ui import WebDriverWait\n",
    "from selenium.webdriver.common.keys import Keys\n",
    "\n",
    "\n",
    "from selenium import webdriver\n",
    "from selenium.webdriver.chrome.service import Service\n",
    "from webdriver_manager.chrome import ChromeDriverManager\n",
    "from selenium.webdriver.chrome.options import Options\n",
    "option = webdriver.ChromeOptions()\n",
    "\n",
    "# this is the preference we 're passing\n",
    "# Pass the argument 1 to allow and 2 to block\n",
    "# cambiamos el directorio por defecto para las descargas \n",
    "# (aquí hay que poner la ruta para las descargas por defecto, \n",
    "# aunque en nuestra función vamos a sustituir esta ruta por la iteración)\n",
    "prefs = {\n",
    "   'profile.default_content_setting_values.automatic_downloads': 1, \n",
    "   \"profile.default_content_setting_values.notifications\": 2, \n",
    "   \"download.default_directory\" : \"ruta_descargas\"\n",
    "    }\n",
    "\n",
    "option.add_experimental_option(\"prefs\", prefs)\n",
    "\n",
    "#enabled/disabled cookies/notifications/click accept.\n",
    "option.add_experimental_option(\"excludeSwitches\", [\"enable-automation\"])\n",
    "option.add_experimental_option('useAutomationExtension', False)\n",
    "option.add_argument(\"--disable-infobars\")\n",
    "option.add_argument(\"start-maximized\")\n",
    "option.add_argument(\"--disable-extensions\")\n",
    "\n",
    "#chrome to stay open\n",
    "option.add_experimental_option(\"detach\", True)"
   ]
  },
  {
   "cell_type": "code",
   "execution_count": 28,
   "metadata": {},
   "outputs": [],
   "source": [
    "# abrir csv\n",
    "df = pd.read_csv(\"ruta_csv\")"
   ]
  },
  {
   "cell_type": "code",
   "execution_count": 29,
   "metadata": {},
   "outputs": [],
   "source": [
    "# crear la lista con todas las urls que queremos descargar, lo hacemos en forma de lista.\n",
    "# usaremos esta variable cómo parámetro para nuestra función descargar\n",
    "links = list(df[\"Link\"].values)"
   ]
  },
  {
   "cell_type": "code",
   "execution_count": 30,
   "metadata": {},
   "outputs": [],
   "source": [
    "# creamos el directorio dónde vamos a descargar los ficheros.\n",
    "os.mkdir(\"ruta_directorio_nuevo\")"
   ]
  },
  {
   "cell_type": "code",
   "execution_count": 31,
   "metadata": {},
   "outputs": [],
   "source": [
    "# creamos la variable ruta, path del nuevo directorio, para usarla cómo parámetro de nuestra función descargar.\n",
    "ruta = \"ruta_directorio_nuevo\""
   ]
  },
  {
   "cell_type": "code",
   "execution_count": 32,
   "metadata": {},
   "outputs": [],
   "source": [
    "# función para esperar a que terminen las descargas antes de pasar a la siguiente instrucción\n",
    "# al llamarla tenemos que pasarle la variable ruta cómo parámetro\n",
    "\n",
    "def download_wait(path_to_downloads):\n",
    "    seconds = 0\n",
    "    dl_wait = True\n",
    "    while dl_wait and seconds < 250:\n",
    "        time.sleep(1)\n",
    "        dl_wait = False\n",
    "        for fname in os.listdir(path_to_downloads):\n",
    "            if fname.endswith('.crdownload'):\n",
    "                dl_wait = True\n",
    "        seconds += 1\n",
    "    return seconds"
   ]
  },
  {
   "cell_type": "code",
   "execution_count": 33,
   "metadata": {},
   "outputs": [],
   "source": [
    "# voy a componer la función descargar pero creando directorios para cada una de los rows, \n",
    "# el título de las grabaciones será el nombre del directorio contenedor de los documentos\n",
    "\n",
    "def descargar (url, ruta):\n",
    "\n",
    "    for i in url:\n",
    "        \n",
    "        indice = df.loc[df[\"Link\"] == i].index\n",
    "        nombre_directorio = df[\"Título\"][indice[0]]\n",
    "\n",
    "        os.chdir(ruta)\n",
    "        os.mkdir(nombre_directorio)\n",
    "\n",
    "        dir_descarga =f\"{ruta}/{nombre_directorio}\"\n",
    "\n",
    "        print(dir_descarga)\n",
    "        # cambiamos el directorio por defecto para las descargas\n",
    "        prefs = {\n",
    "                'profile.default_content_setting_values.automatic_downloads': 1, \"profile.default_content_setting_values.notifications\": 2, \"download.default_directory\" : dir_descarga\n",
    "                }\n",
    "\n",
    "        option.add_experimental_option(\"prefs\", prefs)\n",
    "\n",
    "        driver = webdriver.Chrome(executable_path=\"/usr/bin/chromedriver\",options=option)\n",
    "\n",
    "        lista_nombre_url = i.split(\"/\")\n",
    "        if lista_nombre_url.count(\"webhook_download\") == 1:\n",
    "            driver.get(i)\n",
    "\n",
    "            download_wait(dir_descarga)\n",
    "            print(\"Descarga webhook completada\")\n",
    "\n",
    "            #cierro el driver antes de salir\n",
    "            driver.quit()\n",
    "            \n",
    "        else:\n",
    "\n",
    "            driver.get(i)\n",
    "            driver.find_element(By.CSS_SELECTOR, \".download-btn\").click()\n",
    "    \n",
    "            download_wait(dir_descarga)\n",
    "            print(\"Descarga CSS1 completada\")\n",
    "\n",
    "            if len(os.listdir(dir_descarga)) == 0:\n",
    "                print(\"Voy a intentar con el otro CSS\")\n",
    "                \n",
    "                driver.find_element(By.CSS_SELECTOR, \".zm-icon-download\").click()\n",
    "    \n",
    "                download_wait(dir_descarga)\n",
    "                print(\"Descarga CSS2 completada\")\n",
    "\n",
    "                #cierro el driver antes de salir\n",
    "                driver.quit()\n",
    "            driver.quit()"
   ]
  },
  {
   "cell_type": "code",
   "execution_count": 34,
   "metadata": {},
   "outputs": [
    {
     "name": "stdout",
     "output_type": "stream",
     "text": [
      "/home/cachito/Adalab/grabaciones/modulo2/Introducción  a Numpy\n",
      "Descarga CSS1 completada\n",
      "/home/cachito/Adalab/grabaciones/modulo2/Introducción  a Pandas Series y Dataframes\n",
      "Descarga CSS1 completada\n",
      "/home/cachito/Adalab/grabaciones/modulo2/Presentación Proyecto 2\n",
      "Descarga CSS1 completada\n",
      "/home/cachito/Adalab/grabaciones/modulo2/Numpy 2 Indexación en Numpy\n",
      "Descarga CSS1 completada\n",
      "/home/cachito/Adalab/grabaciones/modulo2/Pandas 2 Carga y guardado de datos\n",
      "Descarga CSS1 completada\n",
      "/home/cachito/Adalab/grabaciones/modulo2/Proyecto: Crear tablero kanban en projectos Adalab\n",
      "Descarga CSS1 completada\n",
      "/home/cachito/Adalab/grabaciones/modulo2/Numpy III - Operaciones estadísticas y matemáticas\n",
      "\n",
      "Descarga CSS1 completada\n",
      "/home/cachito/Adalab/grabaciones/modulo2/Pandas III - Métodos Pandas\n",
      "Descarga CSS1 completada\n",
      "/home/cachito/Adalab/grabaciones/modulo2/NumPy IV - Conjuntos, distribuciones aleatorias\n",
      "Descarga CSS1 completada\n",
      "/home/cachito/Adalab/grabaciones/modulo2/Pandas IV - Filtrado de datos\n",
      "Descarga CSS1 completada\n",
      "/home/cachito/Adalab/grabaciones/modulo2/Repaso Numpy y Pandas\n",
      "Descarga CSS1 completada\n",
      "/home/cachito/Adalab/grabaciones/modulo2/Visualización I - Matplotlib\n",
      "Descarga CSS1 completada\n",
      "/home/cachito/Adalab/grabaciones/modulo2/Pandas V - Unión de datos\n",
      "Descarga CSS1 completada\n",
      "/home/cachito/Adalab/grabaciones/modulo2/Visualización II - Personalizando Matplotlib\n",
      "Descarga CSS1 completada\n",
      "/home/cachito/Adalab/grabaciones/modulo2/Pandas VI - Grobpy\n",
      "Descarga CSS1 completada\n",
      "/home/cachito/Adalab/grabaciones/modulo2/Dudas Visualizacion Matplotlib\n",
      "Descarga CSS1 completada\n",
      "/home/cachito/Adalab/grabaciones/modulo2/Visualización III - Seaborn\n",
      "Descarga CSS1 completada\n",
      "/home/cachito/Adalab/grabaciones/modulo2/Pandas VII - Apply\n",
      "Descarga CSS1 completada\n",
      "/home/cachito/Adalab/grabaciones/modulo2/Estadística I - Introducción\n",
      "Descarga CSS1 completada\n",
      "/home/cachito/Adalab/grabaciones/modulo2/Visualización2\n",
      "Descarga webhook completada\n",
      "/home/cachito/Adalab/grabaciones/modulo2/Estadística III - Tablas de contingencia, correlación, sesgos y intervalos de confianza\n",
      "Descarga CSS1 completada\n",
      "/home/cachito/Adalab/grabaciones/modulo2/Repaso Conceptos Estadística y Visualizacion\n",
      "Descarga CSS1 completada\n",
      "/home/cachito/Adalab/grabaciones/modulo2/Visualización\n",
      "Descarga webhook completada\n",
      "/home/cachito/Adalab/grabaciones/modulo2/Repaso Visualizacion y Estadística\n",
      "Descarga CSS1 completada\n",
      "/home/cachito/Adalab/grabaciones/modulo2/EDA I - Introducción\n",
      "Descarga CSS1 completada\n",
      "/home/cachito/Adalab/grabaciones/modulo2/Limpieza I - Introducción\n",
      "Descarga CSS1 completada\n",
      "/home/cachito/Adalab/grabaciones/modulo2/Introducción\n",
      "Descarga CSS1 completada\n",
      "/home/cachito/Adalab/grabaciones/modulo2/EDA II - Nulos y Valores extremos\n",
      "Descarga CSS1 completada\n",
      "/home/cachito/Adalab/grabaciones/modulo2/Limpieza II - Strings\n",
      "Descarga CSS1 completada\n",
      "/home/cachito/Adalab/grabaciones/modulo2/Visualizacion\n",
      "Descarga CSS1 completada\n",
      "/home/cachito/Adalab/grabaciones/modulo2/EDA III - Visualización\n",
      "Descarga CSS1 completada\n",
      "/home/cachito/Adalab/grabaciones/modulo2/Limpieza III - Outliers\n",
      "Descarga CSS1 completada\n",
      "/home/cachito/Adalab/grabaciones/modulo2/Limpieza IV - Valores Nulos\n",
      "Descarga CSS1 completada\n",
      "/home/cachito/Adalab/grabaciones/modulo2/Limpieza V - Valores Nulos Sklearn\n",
      "Descarga CSS1 completada\n",
      "/home/cachito/Adalab/grabaciones/modulo2/Repaso EDA Limpieza\n",
      "Descarga CSS1 completada\n",
      "/home/cachito/Adalab/grabaciones/modulo2/ETL I - Extracción - API's\n",
      "Descarga CSS1 completada\n",
      "/home/cachito/Adalab/grabaciones/modulo2/ETL II - Transformación I - Limpieza\n",
      "Descarga CSS1 completada\n",
      "/home/cachito/Adalab/grabaciones/modulo2/ETL III - Transformación II - Clases y Funciones de limpieza\n",
      "Descarga CSS1 completada\n",
      "/home/cachito/Adalab/grabaciones/modulo2/ETL IV - Carga I - Creación BBDD e inserción de datos\n",
      "Descarga CSS1 completada\n",
      "/home/cachito/Adalab/grabaciones/modulo2/ETL V - Carga II - Clases y Funciones BBDD e inseción\n",
      "Descarga CSS1 completada\n",
      "/home/cachito/Adalab/grabaciones/modulo2/ETL VI- Ejecutable - Pipeline ETL\n",
      "Descarga CSS1 completada\n",
      "/home/cachito/Adalab/grabaciones/modulo2/Tutoría\n",
      "Descarga CSS1 completada\n",
      "/home/cachito/Adalab/grabaciones/modulo2/Repaso EDA - Limpieza - ETL\n",
      "Descarga CSS1 completada\n"
     ]
    }
   ],
   "source": [
    "# ejecutamos la función: tenemos que meterle la lista de links(df[\"Link\"].values) y la ruta dónde queremos guardar los directorios\n",
    "descargar(links, ruta)"
   ]
  },
  {
   "cell_type": "code",
   "execution_count": 35,
   "metadata": {},
   "outputs": [
    {
     "data": {
      "text/plain": [
       "True"
      ]
     },
     "execution_count": 35,
     "metadata": {},
     "output_type": "execute_result"
    }
   ],
   "source": [
    "# comprobamos que nos ha generado todos los directorios\n",
    "\n",
    "len(os.listdir(ruta)) == len(df[\"Link\"])"
   ]
  }
 ],
 "metadata": {
  "kernelspec": {
   "display_name": "Python 3.9.7 ('base')",
   "language": "python",
   "name": "python3"
  },
  "language_info": {
   "codemirror_mode": {
    "name": "ipython",
    "version": 3
   },
   "file_extension": ".py",
   "mimetype": "text/x-python",
   "name": "python",
   "nbconvert_exporter": "python",
   "pygments_lexer": "ipython3",
   "version": "3.9.7"
  },
  "orig_nbformat": 4,
  "vscode": {
   "interpreter": {
    "hash": "8e1f904fe714ccd05b7907fe541d28c2ec20b612a1af6f34d013e1f0fd7aabf1"
   }
  }
 },
 "nbformat": 4,
 "nbformat_minor": 2
}
